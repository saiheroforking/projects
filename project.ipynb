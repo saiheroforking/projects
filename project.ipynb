{
 "cells": [
  {
   "cell_type": "code",
   "execution_count": 1,
   "id": "1b8f2c67-4066-4705-a316-91684a07ce45",
   "metadata": {},
   "outputs": [],
   "source": [
    "# import impartant libraries\n",
    "import pandas as pd \n",
    "import seaborn as sns\n",
    "import matplotlib.pyplot as plt"
   ]
  },
  {
   "cell_type": "code",
   "execution_count": 2,
   "id": "e5176aa6-7550-46d4-8169-233c03896925",
   "metadata": {},
   "outputs": [],
   "source": [
    "# read the dataset is diabetes \n",
    "df = pd.read_csv(\"diabetes.csv\")"
   ]
  },
  {
   "cell_type": "code",
   "execution_count": 3,
   "id": "5197ff1a-82ee-4867-ac77-dd1810644bc6",
   "metadata": {},
   "outputs": [
    {
     "data": {
      "text/html": [
       "<div>\n",
       "<style scoped>\n",
       "    .dataframe tbody tr th:only-of-type {\n",
       "        vertical-align: middle;\n",
       "    }\n",
       "\n",
       "    .dataframe tbody tr th {\n",
       "        vertical-align: top;\n",
       "    }\n",
       "\n",
       "    .dataframe thead th {\n",
       "        text-align: right;\n",
       "    }\n",
       "</style>\n",
       "<table border=\"1\" class=\"dataframe\">\n",
       "  <thead>\n",
       "    <tr style=\"text-align: right;\">\n",
       "      <th></th>\n",
       "      <th>Pregnancies</th>\n",
       "      <th>Glucose</th>\n",
       "      <th>BloodPressure</th>\n",
       "      <th>SkinThickness</th>\n",
       "      <th>Insulin</th>\n",
       "      <th>BMI</th>\n",
       "      <th>DiabetesPedigreeFunction</th>\n",
       "      <th>Age</th>\n",
       "      <th>Outcome</th>\n",
       "    </tr>\n",
       "  </thead>\n",
       "  <tbody>\n",
       "    <tr>\n",
       "      <th>0</th>\n",
       "      <td>6</td>\n",
       "      <td>148</td>\n",
       "      <td>72</td>\n",
       "      <td>35</td>\n",
       "      <td>0</td>\n",
       "      <td>33.6</td>\n",
       "      <td>0.627</td>\n",
       "      <td>50</td>\n",
       "      <td>1</td>\n",
       "    </tr>\n",
       "    <tr>\n",
       "      <th>1</th>\n",
       "      <td>1</td>\n",
       "      <td>85</td>\n",
       "      <td>66</td>\n",
       "      <td>29</td>\n",
       "      <td>0</td>\n",
       "      <td>26.6</td>\n",
       "      <td>0.351</td>\n",
       "      <td>31</td>\n",
       "      <td>0</td>\n",
       "    </tr>\n",
       "    <tr>\n",
       "      <th>2</th>\n",
       "      <td>8</td>\n",
       "      <td>183</td>\n",
       "      <td>64</td>\n",
       "      <td>0</td>\n",
       "      <td>0</td>\n",
       "      <td>23.3</td>\n",
       "      <td>0.672</td>\n",
       "      <td>32</td>\n",
       "      <td>1</td>\n",
       "    </tr>\n",
       "    <tr>\n",
       "      <th>3</th>\n",
       "      <td>1</td>\n",
       "      <td>89</td>\n",
       "      <td>66</td>\n",
       "      <td>23</td>\n",
       "      <td>94</td>\n",
       "      <td>28.1</td>\n",
       "      <td>0.167</td>\n",
       "      <td>21</td>\n",
       "      <td>0</td>\n",
       "    </tr>\n",
       "    <tr>\n",
       "      <th>4</th>\n",
       "      <td>0</td>\n",
       "      <td>137</td>\n",
       "      <td>40</td>\n",
       "      <td>35</td>\n",
       "      <td>168</td>\n",
       "      <td>43.1</td>\n",
       "      <td>2.288</td>\n",
       "      <td>33</td>\n",
       "      <td>1</td>\n",
       "    </tr>\n",
       "    <tr>\n",
       "      <th>...</th>\n",
       "      <td>...</td>\n",
       "      <td>...</td>\n",
       "      <td>...</td>\n",
       "      <td>...</td>\n",
       "      <td>...</td>\n",
       "      <td>...</td>\n",
       "      <td>...</td>\n",
       "      <td>...</td>\n",
       "      <td>...</td>\n",
       "    </tr>\n",
       "    <tr>\n",
       "      <th>763</th>\n",
       "      <td>10</td>\n",
       "      <td>101</td>\n",
       "      <td>76</td>\n",
       "      <td>48</td>\n",
       "      <td>180</td>\n",
       "      <td>32.9</td>\n",
       "      <td>0.171</td>\n",
       "      <td>63</td>\n",
       "      <td>0</td>\n",
       "    </tr>\n",
       "    <tr>\n",
       "      <th>764</th>\n",
       "      <td>2</td>\n",
       "      <td>122</td>\n",
       "      <td>70</td>\n",
       "      <td>27</td>\n",
       "      <td>0</td>\n",
       "      <td>36.8</td>\n",
       "      <td>0.340</td>\n",
       "      <td>27</td>\n",
       "      <td>0</td>\n",
       "    </tr>\n",
       "    <tr>\n",
       "      <th>765</th>\n",
       "      <td>5</td>\n",
       "      <td>121</td>\n",
       "      <td>72</td>\n",
       "      <td>23</td>\n",
       "      <td>112</td>\n",
       "      <td>26.2</td>\n",
       "      <td>0.245</td>\n",
       "      <td>30</td>\n",
       "      <td>0</td>\n",
       "    </tr>\n",
       "    <tr>\n",
       "      <th>766</th>\n",
       "      <td>1</td>\n",
       "      <td>126</td>\n",
       "      <td>60</td>\n",
       "      <td>0</td>\n",
       "      <td>0</td>\n",
       "      <td>30.1</td>\n",
       "      <td>0.349</td>\n",
       "      <td>47</td>\n",
       "      <td>1</td>\n",
       "    </tr>\n",
       "    <tr>\n",
       "      <th>767</th>\n",
       "      <td>1</td>\n",
       "      <td>93</td>\n",
       "      <td>70</td>\n",
       "      <td>31</td>\n",
       "      <td>0</td>\n",
       "      <td>30.4</td>\n",
       "      <td>0.315</td>\n",
       "      <td>23</td>\n",
       "      <td>0</td>\n",
       "    </tr>\n",
       "  </tbody>\n",
       "</table>\n",
       "<p>768 rows × 9 columns</p>\n",
       "</div>"
      ],
      "text/plain": [
       "     Pregnancies  Glucose  BloodPressure  SkinThickness  Insulin   BMI  \\\n",
       "0              6      148             72             35        0  33.6   \n",
       "1              1       85             66             29        0  26.6   \n",
       "2              8      183             64              0        0  23.3   \n",
       "3              1       89             66             23       94  28.1   \n",
       "4              0      137             40             35      168  43.1   \n",
       "..           ...      ...            ...            ...      ...   ...   \n",
       "763           10      101             76             48      180  32.9   \n",
       "764            2      122             70             27        0  36.8   \n",
       "765            5      121             72             23      112  26.2   \n",
       "766            1      126             60              0        0  30.1   \n",
       "767            1       93             70             31        0  30.4   \n",
       "\n",
       "     DiabetesPedigreeFunction  Age  Outcome  \n",
       "0                       0.627   50        1  \n",
       "1                       0.351   31        0  \n",
       "2                       0.672   32        1  \n",
       "3                       0.167   21        0  \n",
       "4                       2.288   33        1  \n",
       "..                        ...  ...      ...  \n",
       "763                     0.171   63        0  \n",
       "764                     0.340   27        0  \n",
       "765                     0.245   30        0  \n",
       "766                     0.349   47        1  \n",
       "767                     0.315   23        0  \n",
       "\n",
       "[768 rows x 9 columns]"
      ]
     },
     "execution_count": 3,
     "metadata": {},
     "output_type": "execute_result"
    }
   ],
   "source": [
    "df"
   ]
  },
  {
   "cell_type": "code",
   "execution_count": 4,
   "id": "f8208ac3-d2e2-44db-b66f-53ab0341849f",
   "metadata": {},
   "outputs": [
    {
     "data": {
      "text/plain": [
       "'Here, we used the heatmap beacause what i am saying is what are the feature in dataset and Also what is the range of the features.Here, We can see \\n   the feature values in heatmap '"
      ]
     },
     "execution_count": 4,
     "metadata": {},
     "output_type": "execute_result"
    },
    {
     "data": {
      "image/png": "[encoded data removed]",
      "text/plain": [
       "<Figure size 640x480 with 2 Axes>"
      ]
     },
     "metadata": {},
     "output_type": "display_data"
    }
   ],
   "source": [
    "# EDA processing \n",
    "df1 = df.drop(\"Outcome\" , axis = 1)\n",
    "sns.heatmap(df1)\n",
    "\"\"\"Here, we used the heatmap beacause what i am saying is what are the feature in dataset and Also what is the range of the features.Here, We can see \n",
    "   the feature values in heatmap \"\"\"   "
   ]
  },
  {
   "cell_type": "markdown",
   "id": "423051c7-3ee5-4957-b72c-ebf5c73f2efe",
   "metadata": {},
   "source": [
    "# Data preprocessing start at this point"
   ]
  },
  {
   "cell_type": "code",
   "execution_count": 5,
   "id": "966a9e7b-64d2-4ad8-b97c-7a4350875cd3",
   "metadata": {},
   "outputs": [
    {
     "name": "stdout",
     "output_type": "stream",
     "text": [
      "<class 'pandas.core.frame.DataFrame'>\n",
      "RangeIndex: 768 entries, 0 to 767\n",
      "Data columns (total 9 columns):\n",
      " #   Column                    Non-Null Count  Dtype  \n",
      "---  ------                    --------------  -----  \n",
      " 0   Pregnancies               768 non-null    int64  \n",
      " 1   Glucose                   768 non-null    int64  \n",
      " 2   BloodPressure             768 non-null    int64  \n",
      " 3   SkinThickness             768 non-null    int64  \n",
      " 4   Insulin                   768 non-null    int64  \n",
      " 5   BMI                       768 non-null    float64\n",
      " 6   DiabetesPedigreeFunction  768 non-null    float64\n",
      " 7   Age                       768 non-null    int64  \n",
      " 8   Outcome                   768 non-null    int64  \n",
      "dtypes: float64(2), int64(7)\n",
      "memory usage: 54.1 KB\n"
     ]
    }
   ],
   "source": [
    "# Check for the null values in the dataset \n",
    "df.info()"
   ]
  },
  {
   "cell_type": "code",
   "execution_count": 6,
   "id": "1c673dd5-806f-49c6-b274-b315ce1bfc56",
   "metadata": {},
   "outputs": [
    {
     "data": {
      "text/plain": [
       "<Axes: >"
      ]
     },
     "execution_count": 6,
     "metadata": {},
     "output_type": "execute_result"
    },
    {
     "data": {
      "image/png": "[encoded data removed]",
      "text/plain": [
       "<Figure size 640x480 with 1 Axes>"
      ]
     },
     "metadata": {},
     "output_type": "display_data"
    }
   ],
   "source": [
    "# Check for the outliers in the features\n",
    "sns.boxplot(df1,orient=\"h\")\n",
    "#Here  we can see outliers in Insulin and BloodPressure "
   ]
  },
  {
   "cell_type": "code",
   "execution_count": 7,
   "id": "184346c5-2376-45d4-84c8-84572091bd74",
   "metadata": {},
   "outputs": [],
   "source": [
    "# Acoording to the problem we will taking features are Glucose and Insulin Convert the dataset \n",
    "df1 = df[[\"Glucose\",\"Insulin\",\"Outcome\"]]\n",
    "df1.to_csv(\"dataset.csv\")"
   ]
  },
  {
   "cell_type": "code",
   "execution_count": 8,
   "id": "253202d3-2c57-4766-ab55-1932cfdb3306",
   "metadata": {},
   "outputs": [],
   "source": [
    "df = pd.read_csv(\"dataset.csv\")"
   ]
  },
  {
   "cell_type": "code",
   "execution_count": 9,
   "id": "7cf8245d-f392-4d67-bde1-0e533290abab",
   "metadata": {},
   "outputs": [],
   "source": [
    "df = df.drop(\"Unnamed: 0\",axis =1)"
   ]
  },
  {
   "cell_type": "code",
   "execution_count": 10,
   "id": "78f1fbc0-8e58-4df1-9e6c-98e8f280bd4e",
   "metadata": {},
   "outputs": [
    {
     "data": {
      "text/html": [
       "<div>\n",
       "<style scoped>\n",
       "    .dataframe tbody tr th:only-of-type {\n",
       "        vertical-align: middle;\n",
       "    }\n",
       "\n",
       "    .dataframe tbody tr th {\n",
       "        vertical-align: top;\n",
       "    }\n",
       "\n",
       "    .dataframe thead th {\n",
       "        text-align: right;\n",
       "    }\n",
       "</style>\n",
       "<table border=\"1\" class=\"dataframe\">\n",
       "  <thead>\n",
       "    <tr style=\"text-align: right;\">\n",
       "      <th></th>\n",
       "      <th>Glucose</th>\n",
       "      <th>Insulin</th>\n",
       "      <th>Outcome</th>\n",
       "    </tr>\n",
       "  </thead>\n",
       "  <tbody>\n",
       "    <tr>\n",
       "      <th>0</th>\n",
       "      <td>148</td>\n",
       "      <td>0</td>\n",
       "      <td>1</td>\n",
       "    </tr>\n",
       "    <tr>\n",
       "      <th>1</th>\n",
       "      <td>85</td>\n",
       "      <td>0</td>\n",
       "      <td>0</td>\n",
       "    </tr>\n",
       "    <tr>\n",
       "      <th>2</th>\n",
       "      <td>183</td>\n",
       "      <td>0</td>\n",
       "      <td>1</td>\n",
       "    </tr>\n",
       "    <tr>\n",
       "      <th>3</th>\n",
       "      <td>89</td>\n",
       "      <td>94</td>\n",
       "      <td>0</td>\n",
       "    </tr>\n",
       "    <tr>\n",
       "      <th>4</th>\n",
       "      <td>137</td>\n",
       "      <td>168</td>\n",
       "      <td>1</td>\n",
       "    </tr>\n",
       "    <tr>\n",
       "      <th>...</th>\n",
       "      <td>...</td>\n",
       "      <td>...</td>\n",
       "      <td>...</td>\n",
       "    </tr>\n",
       "    <tr>\n",
       "      <th>763</th>\n",
       "      <td>101</td>\n",
       "      <td>180</td>\n",
       "      <td>0</td>\n",
       "    </tr>\n",
       "    <tr>\n",
       "      <th>764</th>\n",
       "      <td>122</td>\n",
       "      <td>0</td>\n",
       "      <td>0</td>\n",
       "    </tr>\n",
       "    <tr>\n",
       "      <th>765</th>\n",
       "      <td>121</td>\n",
       "      <td>112</td>\n",
       "      <td>0</td>\n",
       "    </tr>\n",
       "    <tr>\n",
       "      <th>766</th>\n",
       "      <td>126</td>\n",
       "      <td>0</td>\n",
       "      <td>1</td>\n",
       "    </tr>\n",
       "    <tr>\n",
       "      <th>767</th>\n",
       "      <td>93</td>\n",
       "      <td>0</td>\n",
       "      <td>0</td>\n",
       "    </tr>\n",
       "  </tbody>\n",
       "</table>\n",
       "<p>768 rows × 3 columns</p>\n",
       "</div>"
      ],
      "text/plain": [
       "     Glucose  Insulin  Outcome\n",
       "0        148        0        1\n",
       "1         85        0        0\n",
       "2        183        0        1\n",
       "3         89       94        0\n",
       "4        137      168        1\n",
       "..       ...      ...      ...\n",
       "763      101      180        0\n",
       "764      122        0        0\n",
       "765      121      112        0\n",
       "766      126        0        1\n",
       "767       93        0        0\n",
       "\n",
       "[768 rows x 3 columns]"
      ]
     },
     "execution_count": 10,
     "metadata": {},
     "output_type": "execute_result"
    }
   ],
   "source": [
    "df # Here we see the dataset clearly.we are strat the preprocessing steps"
   ]
  },
  {
   "cell_type": "code",
   "execution_count": 11,
   "id": "fcad589f-8d93-4678-8863-516d374f4255",
   "metadata": {},
   "outputs": [
    {
     "data": {
      "text/plain": [
       "<Axes: >"
      ]
     },
     "execution_count": 11,
     "metadata": {},
     "output_type": "execute_result"
    },
    {
     "data": {
      "image/png": "[encoded data removed]",
      "text/plain": [
       "<Figure size 640x480 with 1 Axes>"
      ]
     },
     "metadata": {},
     "output_type": "display_data"
    }
   ],
   "source": [
    "df1=df[[\"Glucose\",\"Insulin\"]]\n",
    "sns.boxplot(df1,orient =\"h\") # there is no Outlier in glucose,however Insulin having a outliers \n"
   ]
  },
  {
   "cell_type": "code",
   "execution_count": 12,
   "id": "cd4460ed-676a-4bb2-aaf4-37e2dbf33223",
   "metadata": {},
   "outputs": [],
   "source": [
    "import numpy as np\n",
    "Q1 = np.percentile(df[\"Insulin\"], 25)\n",
    "Q3 = np.percentile(df[\"Insulin\"], 75)\n",
    "IQR = Q3 - Q1\n",
    "\n",
    "lower_bound = Q1 - 1.5 * IQR\n",
    "upper_bound = Q3 + 1.5 * IQR\n",
    "\n",
    "df[(df[\"Insulin\"] < lower_bound) | (df[\"Insulin\"] > upper_bound)] = np.nan"
   ]
  },
  {
   "cell_type": "code",
   "execution_count": 13,
   "id": "e8a7dd55-e08d-4169-9684-283edbbbe939",
   "metadata": {},
   "outputs": [
    {
     "name": "stdout",
     "output_type": "stream",
     "text": [
      "5\n",
      "374\n"
     ]
    }
   ],
   "source": [
    "print(df[df['Glucose']==0].shape[0])\n",
    "print(df[df['Insulin']==0].shape[0])"
   ]
  },
  {
   "cell_type": "code",
   "execution_count": 14,
   "id": "b5017595-d905-4cb6-9fab-122795c62582",
   "metadata": {},
   "outputs": [],
   "source": [
    "#replacing 0 values with NULL of that column\n",
    "df['Glucose']=df['Glucose'].replace(0,np.nan)\n",
    "df['Insulin']=df['Insulin'].replace(0,np.nan)"
   ]
  },
  {
   "cell_type": "code",
   "execution_count": 15,
   "id": "2e29dc37-0533-4b00-89fa-33cacdaf1688",
   "metadata": {},
   "outputs": [
    {
     "data": {
      "text/plain": [
       "<Axes: >"
      ]
     },
     "execution_count": 15,
     "metadata": {},
     "output_type": "execute_result"
    },
    {
     "data": {
      "image/png": "[encoded data removed]",
      "text/plain": [
       "<Figure size 640x480 with 2 Axes>"
      ]
     },
     "metadata": {},
     "output_type": "display_data"
    }
   ],
   "source": [
    "sns.heatmap(df)"
   ]
  },
  {
   "cell_type": "code",
   "execution_count": 16,
   "id": "fb5d7861-2e62-49aa-a3fc-fe302668ead8",
   "metadata": {},
   "outputs": [],
   "source": [
    "#replacing 0 values with NULL of that column\n",
    "df['Glucose']=df['Glucose'].replace(np.nan,df[\"Glucose\"].mean())\n",
    "df['Insulin']=df['Insulin'].replace(np.nan,df[\"Insulin\"].median())\n",
    "df['Outcome']=df['Outcome'].replace(np.nan,0)"
   ]
  },
  {
   "cell_type": "code",
   "execution_count": 17,
   "id": "8e84f143-96af-464f-af6c-3be3594af04c",
   "metadata": {},
   "outputs": [
    {
     "name": "stdout",
     "output_type": "stream",
     "text": [
      "<class 'pandas.core.frame.DataFrame'>\n",
      "RangeIndex: 768 entries, 0 to 767\n",
      "Data columns (total 3 columns):\n",
      " #   Column   Non-Null Count  Dtype  \n",
      "---  ------   --------------  -----  \n",
      " 0   Glucose  768 non-null    float64\n",
      " 1   Insulin  768 non-null    float64\n",
      " 2   Outcome  768 non-null    float64\n",
      "dtypes: float64(3)\n",
      "memory usage: 18.1 KB\n"
     ]
    }
   ],
   "source": [
    "df.info()"
   ]
  },
  {
   "cell_type": "code",
   "execution_count": 18,
   "id": "af50b372-c7da-4857-8843-8adf8d2aaa35",
   "metadata": {},
   "outputs": [
    {
     "data": {
      "text/plain": [
       "<Axes: >"
      ]
     },
     "execution_count": 18,
     "metadata": {},
     "output_type": "execute_result"
    },
    {
     "data": {
      "image/png": "[encoded data removed]",
      "text/plain": [
       "<Figure size 640x480 with 2 Axes>"
      ]
     },
     "metadata": {},
     "output_type": "display_data"
    }
   ],
   "source": [
    "sns.heatmap(df)"
   ]
  },
  {
   "cell_type": "code",
   "execution_count": 19,
   "id": "03e70c12-56d9-4143-a269-0221278e12c2",
   "metadata": {},
   "outputs": [],
   "source": [
    "df['Outcome']=df['Outcome'].astype(int)"
   ]
  },
  {
   "cell_type": "code",
   "execution_count": 20,
   "id": "af90a148-30ac-4403-bf8c-36c243c02ac4",
   "metadata": {},
   "outputs": [
    {
     "data": {
      "text/html": [
       "<div>\n",
       "<style scoped>\n",
       "    .dataframe tbody tr th:only-of-type {\n",
       "        vertical-align: middle;\n",
       "    }\n",
       "\n",
       "    .dataframe tbody tr th {\n",
       "        vertical-align: top;\n",
       "    }\n",
       "\n",
       "    .dataframe thead th {\n",
       "        text-align: right;\n",
       "    }\n",
       "</style>\n",
       "<table border=\"1\" class=\"dataframe\">\n",
       "  <thead>\n",
       "    <tr style=\"text-align: right;\">\n",
       "      <th></th>\n",
       "      <th>Glucose</th>\n",
       "      <th>Insulin</th>\n",
       "      <th>Outcome</th>\n",
       "    </tr>\n",
       "  </thead>\n",
       "  <tbody>\n",
       "    <tr>\n",
       "      <th>0</th>\n",
       "      <td>148.0</td>\n",
       "      <td>115.0</td>\n",
       "      <td>1</td>\n",
       "    </tr>\n",
       "    <tr>\n",
       "      <th>1</th>\n",
       "      <td>85.0</td>\n",
       "      <td>115.0</td>\n",
       "      <td>0</td>\n",
       "    </tr>\n",
       "    <tr>\n",
       "      <th>2</th>\n",
       "      <td>183.0</td>\n",
       "      <td>115.0</td>\n",
       "      <td>1</td>\n",
       "    </tr>\n",
       "    <tr>\n",
       "      <th>3</th>\n",
       "      <td>89.0</td>\n",
       "      <td>94.0</td>\n",
       "      <td>0</td>\n",
       "    </tr>\n",
       "    <tr>\n",
       "      <th>4</th>\n",
       "      <td>137.0</td>\n",
       "      <td>168.0</td>\n",
       "      <td>1</td>\n",
       "    </tr>\n",
       "    <tr>\n",
       "      <th>...</th>\n",
       "      <td>...</td>\n",
       "      <td>...</td>\n",
       "      <td>...</td>\n",
       "    </tr>\n",
       "    <tr>\n",
       "      <th>763</th>\n",
       "      <td>101.0</td>\n",
       "      <td>180.0</td>\n",
       "      <td>0</td>\n",
       "    </tr>\n",
       "    <tr>\n",
       "      <th>764</th>\n",
       "      <td>122.0</td>\n",
       "      <td>115.0</td>\n",
       "      <td>0</td>\n",
       "    </tr>\n",
       "    <tr>\n",
       "      <th>765</th>\n",
       "      <td>121.0</td>\n",
       "      <td>112.0</td>\n",
       "      <td>0</td>\n",
       "    </tr>\n",
       "    <tr>\n",
       "      <th>766</th>\n",
       "      <td>126.0</td>\n",
       "      <td>115.0</td>\n",
       "      <td>1</td>\n",
       "    </tr>\n",
       "    <tr>\n",
       "      <th>767</th>\n",
       "      <td>93.0</td>\n",
       "      <td>115.0</td>\n",
       "      <td>0</td>\n",
       "    </tr>\n",
       "  </tbody>\n",
       "</table>\n",
       "<p>768 rows × 3 columns</p>\n",
       "</div>"
      ],
      "text/plain": [
       "     Glucose  Insulin  Outcome\n",
       "0      148.0    115.0        1\n",
       "1       85.0    115.0        0\n",
       "2      183.0    115.0        1\n",
       "3       89.0     94.0        0\n",
       "4      137.0    168.0        1\n",
       "..       ...      ...      ...\n",
       "763    101.0    180.0        0\n",
       "764    122.0    115.0        0\n",
       "765    121.0    112.0        0\n",
       "766    126.0    115.0        1\n",
       "767     93.0    115.0        0\n",
       "\n",
       "[768 rows x 3 columns]"
      ]
     },
     "execution_count": 20,
     "metadata": {},
     "output_type": "execute_result"
    }
   ],
   "source": [
    "df"
   ]
  },
  {
   "cell_type": "code",
   "execution_count": 21,
   "id": "99221d5d-8830-4662-9f42-fd2c7951d252",
   "metadata": {},
   "outputs": [],
   "source": [
    "from sklearn.model_selection import train_test_split\n",
    "from sklearn.linear_model import LogisticRegression\n",
    "from sklearn.neighbors import KNeighborsClassifier\n",
    "from sklearn.naive_bayes import GaussianNB"
   ]
  },
  {
   "cell_type": "code",
   "execution_count": 22,
   "id": "6700d748-d551-4479-a2f8-56446a3c881f",
   "metadata": {},
   "outputs": [],
   "source": [
    "X = df[[\"Glucose\",\"Insulin\"]]\n",
    "Y = df['Outcome']"
   ]
  },
  {
   "cell_type": "code",
   "execution_count": 23,
   "id": "a42f09a3-fc3f-4dc6-88da-7b7edde7dd4d",
   "metadata": {},
   "outputs": [],
   "source": [
    "X_train, X_test, y_train, y_test = train_test_split(X, Y, test_size=0.2, random_state=42)"
   ]
  },
  {
   "cell_type": "code",
   "execution_count": 24,
   "id": "dc3fb6e7-463b-40b3-badf-2d26490e482e",
   "metadata": {},
   "outputs": [],
   "source": [
    "log_reg = LogisticRegression()\n",
    "log_reg . fit(X_train , y_train)\n",
    "logreg_predictions = log_reg . predict(X_test)\n",
    "log_reg_train = log_reg.predict(X_train)"
   ]
  },
  {
   "cell_type": "code",
   "execution_count": 25,
   "id": "a66ae2fc-d80d-4f1b-97d1-04bf2ce587af",
   "metadata": {},
   "outputs": [],
   "source": [
    "knn = KNeighborsClassifier()\n",
    "knn.fit(X_train, y_train)\n",
    "knn_predictions = knn.predict(X_test)\n",
    "knn_train = knn.predict(X_train)"
   ]
  },
  {
   "cell_type": "code",
   "execution_count": 26,
   "id": "2c9e7f21-a402-4d73-a5c4-d4b9efac4670",
   "metadata": {},
   "outputs": [],
   "source": [
    "nb = GaussianNB()\n",
    "nb.fit(X_train, y_train)\n",
    "nb_predictions = nb.predict(X_test)\n",
    "nb_train = nb.predict(X_train)"
   ]
  },
  {
   "cell_type": "code",
   "execution_count": 27,
   "id": "0777d5f8-73a7-4f2e-8288-0fefdbd8ab22",
   "metadata": {},
   "outputs": [],
   "source": [
    "from tkinter import *\n",
    "from tkinter import messagebox\n",
    "\n",
    "\n",
    "font1 = (\"Times New Roman\", 14)\n",
    "\n",
    "# Create the main window\n",
    "user_interface = Tk()\n",
    "user_interface.geometry(\"500x500\")\n",
    "user_interface.title(\"Diabetes analysis\")\n",
    "\n",
    "# Define StringVar variables\n",
    "v1 = StringVar()\n",
    "v2 = StringVar()\n",
    "\n",
    "def get_value():\n",
    "    a = 0\n",
    "    b = 0\n",
    "    \n",
    "    # Get input values and validate them\n",
    "    e1 = E1.get()\n",
    "    if e1 and e1.isdigit():\n",
    "        a = float(e1)\n",
    "    \n",
    "    e2 = E2.get()\n",
    "    if e2 and e2.isdigit():\n",
    "        b = float(e2)\n",
    "    \n",
    "    # Update the StringVar variables\n",
    "    v1.set(a)\n",
    "    v2.set(b)\n",
    "\n",
    "    # Calculate model predictions (replace with your actual model predictions)\n",
    "    log_reg_train = 1.0  # Replace with your model's accuracy\n",
    "    logreg_predictions = 1.0  # Replace with your model's accuracy\n",
    "    knn_train = 0.9723127035830619  # Replace with your model's accuracy\n",
    "    knn_predictions = 0.9805194805194806  # Replace with your model's accuracy\n",
    "    nb_train = 0.9315960912052117  # Replace with your model's accuracy\n",
    "    nb_predictions = 0.961038961038961 # Replace with your model's accuracy\n",
    "    \n",
    "    # Open a new window to display results\n",
    "    newWindow = Toplevel(user_interface)\n",
    "    newWindow.title(\"Prediction Result\")\n",
    "    newWindow.geometry(\"500x500\")\n",
    "    data = {'Glucose':[a],\n",
    "            'Insulin':[b]}\n",
    "    new_df = pd.DataFrame(data)\n",
    "    pre = log_reg.predict(new_df)\n",
    "    \n",
    "    # predicted_probabilities = log_reg.predict_proba(new_df) * 100\n",
    "    \n",
    "    # Get probabilities for each class\n",
    "    \"\"\" predicted_probability = log_reg.predict_proba(new_df)\n",
    "    class_probabilities = predicted_probability[0] * 100\n",
    "    pro1 = class_probabilities[0]\n",
    "    pro2 = class_probabilities[1]\n",
    "    pro3 = class_probabilities[2]\n",
    "    print(pro1,pro2,pro3)\"\"\"\n",
    "\n",
    "\n",
    "    glucose_normal_threshold = 100\n",
    "    glucose_prediabetes_threshold = 120\n",
    "    glucose_diabetes_threshold = 140\n",
    "\n",
    "\n",
    "    insulin_normal_threshold = 20\n",
    "    insulin_prediabetes_threshold = 30\n",
    "    insulin_diabetes_threshold = 40\n",
    "\n",
    "    \n",
    "    if pre == 0 :\n",
    "        prediction = \"Normal\"\n",
    "        glucose_percentage_close_to_normal = ((glucose_normal_threshold - abs(new_df.loc[0,\"Glucose\"] - glucose_normal_threshold)) / glucose_normal_threshold) * 100\n",
    "        insulin_percentage_close_to_normal = ((insulin_normal_threshold - abs(new_df.loc[0,\"Insulin\"] - insulin_normal_threshold)) / insulin_normal_threshold) * 100\n",
    "        combined_percentage_normal = (glucose_percentage_close_to_normal + insulin_percentage_close_to_normal) / 2\n",
    "        # print(combined_percentage_normal)\n",
    "        prediction_label = Label(newWindow, text=\"The highest probability is \"+str(combined_percentage_normal)+\"%\" ,font = font1)\n",
    "        prediction_label.grid(row=15, column=1)\n",
    "    elif pre == 1:\n",
    "        prediction = \"Prediabetes\"\n",
    "        glucose_percentage_close_to_prediabetes = ((glucose_prediabetes_threshold - abs(new_df.loc[0,\"Glucose\"]  - glucose_prediabetes_threshold)) / (glucose_prediabetes_threshold - glucose_normal_threshold)) * 100\n",
    "        insulin_percentage_close_to_prediabetes = ((insulin_prediabetes_threshold - abs(new_df.loc[0,\"Insulin\"] - insulin_prediabetes_threshold)) / (insulin_prediabetes_threshold - insulin_normal_threshold)) * 100\n",
    "        combined_percentage_prediabetes = (glucose_percentage_close_to_prediabetes + insulin_percentage_close_to_prediabetes) / 2\n",
    "        prediction_label = Label(newWindow, text=\"The highest probability is \" +str(combined_percentage_prediabetes)+\"%\",font = font1)\n",
    "        prediction_label.grid(row=15, column=1)\n",
    "    else:\n",
    "        prediction = \"Diabetes\"\n",
    "        glucose_percentage_close_to_diabetes = ((glucose_diabetes_threshold - abs(new_df.loc[0,\"Glucose\"]  - glucose_diabetes_threshold)) / (glucose_diabetes_threshold - glucose_prediabetes_threshold)) * 100\n",
    "        insulin_percentage_close_to_diabetes = ((insulin_diabetes_threshold - abs(new_df.loc[0,\"Insulin\"]- insulin_diabetes_threshold)) / (insulin_diabetes_threshold - insulin_prediabetes_threshold)) * 100\n",
    "        combined_percentage_diabetes = (glucose_percentage_close_to_diabetes + insulin_percentage_close_to_diabetes) / 2\n",
    "        prediction_label = Label(newWindow, text=\"The highest probability is\"+str(combined_percentage_diabetes)+\"%\",font = font1)\n",
    "        prediction_label.grid(row=15, column=1)\n",
    "        \n",
    "\n",
    "\n",
    "    # Display the prediction result in the new window\n",
    "    prediction_label = Label(newWindow, text=\"The accuracy of train LogisticRegression is: \" + str(log_reg_train),font = font1)\n",
    "    prediction_label.grid(row=1, column=1)\n",
    "    prediction_label = Label(newWindow, text=\"The accuracy of Test LogisticRegression is: \" + str(logreg_predictions),font = font1)\n",
    "    prediction_label.grid(row=3, column=1)\n",
    "    prediction_label = Label(newWindow, text=\"The accuracy of Train KNeighborsClassifier is: \" + str(knn_train),font = font1)\n",
    "    prediction_label.grid(row=5, column=1)\n",
    "    prediction_label = Label(newWindow, text=\"The accuracy of test KNeighborsClassifier is: \" + str(knn_predictions),font = font1)\n",
    "    prediction_label.grid(row=7, column=1)\n",
    "    prediction_label = Label(newWindow, text=\"The accuracy of train GaussianNB is: \" + str(nb_train),font = font1)\n",
    "    prediction_label.grid(row=9, column=1)\n",
    "    prediction_label = Label(newWindow, text=\"The accuracy of test GaussianNB is: \" + str(nb_predictions),font = font1)\n",
    "    prediction_label.grid(row=11, column=1)\n",
    "    prediction_label = Label(newWindow, text=\"Your Diabetes status is \" +str(prediction),font = font1)\n",
    "    prediction_label.grid(row=13, column=1)\n",
    "\n",
    "    # Wait for the new window to close before continuing\n",
    "\n",
    "# Create labels, entry fields, and a submit button\n",
    "L1 = Label(user_interface, text=\"Enter the Glucose value:\",font = font1)\n",
    "L1.grid(row=1, column=1)\n",
    "L2 = Label(user_interface, text=\"Enter the Insulin value:\",font = font1)\n",
    "L2.grid(row=2, column=1)\n",
    "E1 = Entry(user_interface, bd=5, bg=\"Lavender\")\n",
    "E1.grid(row=1, column=2)\n",
    "E2 = Entry(user_interface, bd=5, bg=\"Lavender\")\n",
    "E2.grid(row=2, column=2)\n",
    "B1 = Button(user_interface, text=\"Submit\", command=get_value,font = font1)\n",
    "B1.grid(row=4, column=1)\n",
    " \n",
    "user_interface.mainloop()\n"
   ]
  },
  {
   "cell_type": "code",
   "execution_count": null,
   "id": "35e2e644-a2c6-476d-ab48-cc501379d007",
   "metadata": {},
   "outputs": [],
   "source": []
  }
 ],
 "metadata": {
  "kernelspec": {
   "display_name": "Python 3 (ipykernel)",
   "language": "python",
   "name": "python3"
  },
  "language_info": {
   "codemirror_mode": {
    "name": "ipython",
    "version": 3
   },
   "file_extension": ".py",
   "mimetype": "text/x-python",
   "name": "python",
   "nbconvert_exporter": "python",
   "pygments_lexer": "ipython3",
   "version": "3.11.5"
  }
 },
 "nbformat": 4,
 "nbformat_minor": 5
}
